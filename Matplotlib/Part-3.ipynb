{
 "cells": [
  {
   "cell_type": "code",
   "execution_count": 6,
   "metadata": {},
   "outputs": [],
   "source": [
    "import numpy as np\n",
    "import matplotlib.pyplot as plt"
   ]
  },
  {
   "cell_type": "code",
   "execution_count": 7,
   "metadata": {},
   "outputs": [],
   "source": [
    "%matplotlib inline"
   ]
  },
  {
   "cell_type": "code",
   "execution_count": 38,
   "metadata": {},
   "outputs": [
    {
     "data": {
      "text/plain": [
       "(0.0, 1.0)"
      ]
     },
     "execution_count": 38,
     "metadata": {},
     "output_type": "execute_result"
    },
    {
     "data": {
      "image/png": "[encoded data removed]",
      "text/plain": [
       "<Figure size 432x288 with 1 Axes>"
      ]
     },
     "metadata": {
      "needs_background": "light"
     },
     "output_type": "display_data"
    }
   ],
   "source": [
    "fig= plt.figure()\n",
    "ax= fig.add_axes([0,0,1,1])\n",
    "x= np.linspace(0,5,11)\n",
    "ax.plot(x, x**2, lw=2, ls='dashed', alpha=0.5, color='r', marker='*', markersize='15', markerfacecolor='green', markeredgecolor='black', markeredgewidth='5')\n",
    "ax.set_xlim([0,2])\n",
    "ax.set_ylim([0,1])"
   ]
  },
  {
   "cell_type": "code",
   "execution_count": 39,
   "metadata": {},
   "outputs": [
    {
     "data": {
      "text/plain": [
       "<matplotlib.collections.PathCollection at 0x2a3cecc7190>"
      ]
     },
     "execution_count": 39,
     "metadata": {},
     "output_type": "execute_result"
    },
    {
     "data": {
      "image/png": "[encoded data removed]",
      "text/plain": [
       "<Figure size 432x288 with 1 Axes>"
      ]
     },
     "metadata": {
      "needs_background": "light"
     },
     "output_type": "display_data"
    }
   ],
   "source": [
    "#Different types of plot\n",
    "#scatter\n",
    "plt.scatter(x, x**2)"
   ]
  },
  {
   "cell_type": "code",
   "execution_count": 44,
   "metadata": {},
   "outputs": [
    {
     "data": {
      "text/plain": [
       "(array([10., 10.,  7., 11., 11., 10., 10.,  4., 10., 17.]),\n",
       " array([  7., 106., 205., 304., 403., 502., 601., 700., 799., 898., 997.]),\n",
       " <a list of 10 Patch objects>)"
      ]
     },
     "execution_count": 44,
     "metadata": {},
     "output_type": "execute_result"
    },
    {
     "data": {
      "image/png": "[encoded data removed]",
      "text/plain": [
       "<Figure size 432x288 with 1 Axes>"
      ]
     },
     "metadata": {
      "needs_background": "light"
     },
     "output_type": "display_data"
    }
   ],
   "source": [
    "#histogram\n",
    "from random import sample\n",
    "data= sample(range(1,1000), 100)\n",
    "plt.hist(data)"
   ]
  },
  {
   "cell_type": "code",
   "execution_count": 45,
   "metadata": {},
   "outputs": [
    {
     "data": {
      "text/plain": [
       "{'whiskers': [<matplotlib.lines.Line2D at 0x2a3cee085b0>,\n",
       "  <matplotlib.lines.Line2D at 0x2a3cee08910>,\n",
       "  <matplotlib.lines.Line2D at 0x2a3cee19c40>,\n",
       "  <matplotlib.lines.Line2D at 0x2a3cee19fa0>,\n",
       "  <matplotlib.lines.Line2D at 0x2a3cee31310>,\n",
       "  <matplotlib.lines.Line2D at 0x2a3cee31670>],\n",
       " 'caps': [<matplotlib.lines.Line2D at 0x2a3cee08c70>,\n",
       "  <matplotlib.lines.Line2D at 0x2a3cee08fd0>,\n",
       "  <matplotlib.lines.Line2D at 0x2a3cee24340>,\n",
       "  <matplotlib.lines.Line2D at 0x2a3cee246a0>,\n",
       "  <matplotlib.lines.Line2D at 0x2a3cee319d0>,\n",
       "  <matplotlib.lines.Line2D at 0x2a3cee31d30>],\n",
       " 'boxes': [<matplotlib.patches.PathPatch at 0x2a3cee08220>,\n",
       "  <matplotlib.patches.PathPatch at 0x2a3cee198b0>,\n",
       "  <matplotlib.patches.PathPatch at 0x2a3cee24f10>],\n",
       " 'medians': [<matplotlib.lines.Line2D at 0x2a3cee19370>,\n",
       "  <matplotlib.lines.Line2D at 0x2a3cee24a00>,\n",
       "  <matplotlib.lines.Line2D at 0x2a3cee390d0>],\n",
       " 'fliers': [<matplotlib.lines.Line2D at 0x2a3cee19670>,\n",
       "  <matplotlib.lines.Line2D at 0x2a3cee24d00>,\n",
       "  <matplotlib.lines.Line2D at 0x2a3cee393d0>],\n",
       " 'means': []}"
      ]
     },
     "execution_count": 45,
     "metadata": {},
     "output_type": "execute_result"
    },
    {
     "data": {
      "image/png": "[encoded data removed]",
      "text/plain": [
       "<Figure size 432x288 with 1 Axes>"
      ]
     },
     "metadata": {
      "needs_background": "light"
     },
     "output_type": "display_data"
    }
   ],
   "source": [
    "#boxplot\n",
    "data= [np.random.normal(0, std, 100) for std in range(1,4)]\n",
    "plt.boxplot(data, vert=True, patch_artist=True)"
   ]
  },
  {
   "cell_type": "code",
   "execution_count": null,
   "metadata": {},
   "outputs": [],
   "source": []
  }
 ],
 "metadata": {
  "kernelspec": {
   "display_name": "Python 3",
   "language": "python",
   "name": "python3"
  },
  "language_info": {
   "codemirror_mode": {
    "name": "ipython",
    "version": 3
   },
   "file_extension": ".py",
   "mimetype": "text/x-python",
   "name": "python",
   "nbconvert_exporter": "python",
   "pygments_lexer": "ipython3",
   "version": "3.8.3"
  }
 },
 "nbformat": 4,
 "nbformat_minor": 4
}
